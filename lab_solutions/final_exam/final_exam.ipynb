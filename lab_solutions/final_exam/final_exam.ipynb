{
 "cells": [
  {
   "cell_type": "markdown",
   "metadata": {},
   "source": [
    "# Final exam\n",
    "\n",
    "**For this exam, feel free to re-use any code from the previous lab notebooks.**"
   ]
  },
  {
   "cell_type": "markdown",
   "metadata": {},
   "source": [
    "#### Tasks\n",
    "- Use accelerator data to construct a neural network surrogate model, train that model, and demonstrate that it accurately models the data\n",
    "- Use Bayesian optimization to optimize the function and determine the best operational parameters"
   ]
  },
  {
   "cell_type": "markdown",
   "metadata": {},
   "source": [
    "## Setting up the environment"
   ]
  },
  {
   "cell_type": "code",
   "execution_count": 1,
   "metadata": {},
   "outputs": [
    {
     "name": "stdout",
     "output_type": "stream",
     "text": [
      "\u001b[33mWARNING: You are using pip version 21.1.2; however, version 21.1.3 is available.\n",
      "You should consider upgrading via the '/home/vagrant/.pyenv/versions/3.7.2/envs/py3/bin/python -m pip install --upgrade pip' command.\u001b[0m\n"
     ]
    }
   ],
   "source": [
    "!pip install --upgrade git+https://github.com/uspas/2021_optimization_and_ml --quiet"
   ]
  },
  {
   "cell_type": "code",
   "execution_count": 2,
   "metadata": {},
   "outputs": [],
   "source": [
    "%reset -f\n",
    "\n",
    "import numpy as np\n",
    "import matplotlib.pyplot as plt\n",
    "\n",
    "#matplotlib graphs will be included in your notebook, next to the code:\n",
    "%matplotlib inline\n",
    "\n",
    "#add PyTorch and TorchVision (used for cropping etc.)\n",
    "import torch\n",
    "import torchvision\n",
    "\n",
    "import torch.nn as nn\n",
    "import torch.nn.functional as F\n",
    "import torch.optim as optim\n",
    "\n",
    "#import toy accelerator package\n",
    "from uspas_ml.accelerator_toy_models import simple_linarc\n",
    "from uspas_ml.utils import transformer"
   ]
  },
  {
   "cell_type": "markdown",
   "metadata": {},
   "source": [
    "## Generate dataset\n",
    "\n",
    "The code below generates samples from \"simulations\" of a beam propagating through a linac followed by an arc:\n",
    "- The input to the simulator are the linac's phase, the arc's R56 coefficient, and the beam final (mean) energy.\n",
    "- The output of the simulator are the bunch length (in meters) and the bunch's RMS energy spread."
   ]
  },
  {
   "cell_type": "code",
   "execution_count": 3,
   "metadata": {},
   "outputs": [
    {
     "name": "stdout",
     "output_type": "stream",
     "text": [
      "Inputs:\n",
      "tensor([[-3.7434e-01,  2.6822e-01,  8.4424e+08],\n",
      "        [-3.6797e+01, -1.9258e-01,  1.1170e+09],\n",
      "        [-9.9066e-01,  3.9644e-01,  1.0278e+09],\n",
      "        ...,\n",
      "        [ 2.6369e+01, -4.5239e-01,  8.7906e+08],\n",
      "        [-1.9793e+01, -1.4001e-02,  1.1869e+09],\n",
      "        [-4.6165e+00, -1.8174e-01,  8.3491e+08]])\n",
      "Outputs:\n",
      "tensor([[0.0010, 0.0005],\n",
      "        [0.0026, 0.0189],\n",
      "        [0.0011, 0.0006],\n",
      "        ...,\n",
      "        [0.0063, 0.0118],\n",
      "        [0.0009, 0.0089],\n",
      "        [0.0006, 0.0021]])\n"
     ]
    }
   ],
   "source": [
    "#generate input samples\n",
    "n = 10000\n",
    "torch.manual_seed(0)\n",
    "inputs = torch.rand((n, 3))\n",
    "\n",
    "#phase +/- 50 deg\n",
    "inputs[:, 0] = inputs[:, 0] * 100.0 - 50.0\n",
    "\n",
    "#r56 +/- 0.5\n",
    "inputs[:,1] = inputs[:,1] - 0.5\n",
    "\n",
    "#final energy [800,1300]*1e6\n",
    "inputs[:,2] = (inputs[:,2] * 500.0 + 800.0) * 1e6\n",
    "\n",
    "print('Inputs:')\n",
    "print(inputs)\n",
    "\n",
    "outputs = []\n",
    "for i in range(n):\n",
    "    outputs += [simple_linarc.propagate(linac_phase = inputs[i][0], \n",
    "                                        arc_r56 = inputs[i][1],\n",
    "                                        linac_final_E = inputs[i][2])]\n",
    "\n",
    "outputs = torch.vstack(outputs)\n",
    "\n",
    "print('Outputs:')\n",
    "print(outputs)"
   ]
  },
  {
   "cell_type": "markdown",
   "metadata": {},
   "source": [
    "<div class=\"alert alert-block alert-info\">\n",
    "    \n",
    "**Task:** \n",
    "    Appropriately normalize the data.\n",
    "</div>"
   ]
  },
  {
   "cell_type": "code",
   "execution_count": 4,
   "metadata": {},
   "outputs": [],
   "source": [
    "tx = transformer.Transformer(inputs, transform_type = 'normalize')\n",
    "normed_inputs = tx.forward(inputs)\n",
    "\n",
    "    \n",
    "ty = transformer.Transformer(outputs, transform_type = 'normalize')\n",
    "normed_outputs = ty.forward(outputs)"
   ]
  },
  {
   "cell_type": "code",
   "execution_count": 5,
   "metadata": {},
   "outputs": [
    {
     "name": "stdout",
     "output_type": "stream",
     "text": [
      "tensor([[0.4963, 0.7682, 0.0885],\n",
      "        [0.1320, 0.3074, 0.6341],\n",
      "        [0.4902, 0.8965, 0.4557],\n",
      "        ...,\n",
      "        [0.7638, 0.0475, 0.1581],\n",
      "        [0.3021, 0.4860, 0.7740],\n",
      "        [0.4539, 0.3182, 0.0698]])\n",
      "tensor([[0.0632, 0.0022],\n",
      "        [0.1609, 0.6090],\n",
      "        [0.0665, 0.0057],\n",
      "        ...,\n",
      "        [0.3908, 0.3756],\n",
      "        [0.0523, 0.2787],\n",
      "        [0.0386, 0.0550]])\n"
     ]
    }
   ],
   "source": [
    "print(normed_inputs)\n",
    "print(normed_outputs)"
   ]
  },
  {
   "cell_type": "markdown",
   "metadata": {},
   "source": [
    "<div class=\"alert alert-block alert-info\">\n",
    "    \n",
    "**Task:** \n",
    "    Create and train a neural network to model this data, i.e. for each data point, the neural network should take the above 3 (normalized) input features and predict the above 2 (normalized) output features. \n",
    "    \n",
    "In order to show that the neural network works as expected and that the training roughly converged, plot the evolution of the loss function - both for the training dataset and test dataset - during training. (Use the first 7000 data points as the training set, and the remaining 3000 data points as the test set.)\n",
    "</div>"
   ]
  },
  {
   "cell_type": "code",
   "execution_count": 6,
   "metadata": {},
   "outputs": [],
   "source": [
    "class NN(nn.Module):\n",
    "    def __init__(self):\n",
    "        super(NN, self).__init__()\n",
    "        \n",
    "        hidden_size = 10\n",
    "        \n",
    "        self.linear1 = nn.Linear(3, hidden_size)\n",
    "        self.relu = nn.ReLU()\n",
    "        self.linear2 = nn.Linear(hidden_size, hidden_size)\n",
    "        self.relu = nn.ReLU()\n",
    "        self.linear3 = nn.Linear(hidden_size, 2)\n",
    "\n",
    "    def forward(self, x):\n",
    "\n",
    "        #propagate through model\n",
    "        x = self.linear1(x)\n",
    "        x = self.relu(x)\n",
    "        x = self.linear2(x)\n",
    "        x = self.relu(x)\n",
    "        x = self.linear3(x)\n",
    "        \n",
    "        return x\n",
    "\n",
    "def test_model(model, test_loader):\n",
    "    model.eval()\n",
    "    test_loss = 0\n",
    "    correct = 0\n",
    "    with torch.no_grad():\n",
    "        for data, target in test_loader:\n",
    "            output = model(data)\n",
    "            test_loss += F.mse_loss(output, target, size_average=False).item()\n",
    "\n",
    "    test_loss /= len(test_loader.dataset)\n",
    "#    print(test_loss)\n",
    "    \n",
    "    return test_loss\n",
    "    \n",
    "def train_model(model, epochs, train_loader):\n",
    "    \n",
    "    train_losses = []\n",
    "    train_counter = []\n",
    "    \n",
    "    learning_rate = 0.01\n",
    "    optimizer = optim.Adam(model.parameters(), lr=learning_rate)\n",
    "    \n",
    "    #iterate through data batches\n",
    "    for batch_idx, (data, target) in enumerate(train_loader):\n",
    "        \n",
    "        #reset gradients\n",
    "        optimizer.zero_grad()\n",
    "        \n",
    "        #evaluate network with data\n",
    "        output = model(data)\n",
    "        \n",
    "        #compute loss and derivative\n",
    "        loss = F.mse_loss(output, target)\n",
    "        loss.backward()\n",
    "        \n",
    "        #step optimizer\n",
    "        optimizer.step()\n",
    "\n",
    "    return float(loss.detach().numpy())"
   ]
  },
  {
   "cell_type": "code",
   "execution_count": 7,
   "metadata": {},
   "outputs": [
    {
     "name": "stderr",
     "output_type": "stream",
     "text": [
      "/home/vagrant/.pyenv/versions/py3/lib/python3.7/site-packages/ipykernel_launcher.py:7: UserWarning: To copy construct from a tensor, it is recommended to use sourceTensor.clone().detach() or sourceTensor.clone().detach().requires_grad_(True), rather than torch.tensor(sourceTensor).\n",
      "  import sys\n",
      "/home/vagrant/.pyenv/versions/py3/lib/python3.7/site-packages/ipykernel_launcher.py:8: UserWarning: To copy construct from a tensor, it is recommended to use sourceTensor.clone().detach() or sourceTensor.clone().detach().requires_grad_(True), rather than torch.tensor(sourceTensor).\n",
      "  \n",
      "/home/vagrant/.pyenv/versions/py3/lib/python3.7/site-packages/ipykernel_launcher.py:10: UserWarning: To copy construct from a tensor, it is recommended to use sourceTensor.clone().detach() or sourceTensor.clone().detach().requires_grad_(True), rather than torch.tensor(sourceTensor).\n",
      "  # Remove the CWD from sys.path while we load stuff.\n",
      "/home/vagrant/.pyenv/versions/py3/lib/python3.7/site-packages/ipykernel_launcher.py:11: UserWarning: To copy construct from a tensor, it is recommended to use sourceTensor.clone().detach() or sourceTensor.clone().detach().requires_grad_(True), rather than torch.tensor(sourceTensor).\n",
      "  # This is added back by InteractiveShellApp.init_path()\n",
      "  0%|          | 0/100 [00:00<?, ?it/s]/home/vagrant/.pyenv/versions/py3/lib/python3.7/site-packages/torch/nn/_reduction.py:42: UserWarning: size_average and reduce args will be deprecated, please use reduction='sum' instead.\n",
      "  warnings.warn(warning.format(ret))\n",
      "100%|██████████| 100/100 [00:28<00:00,  3.56it/s]\n"
     ]
    },
    {
     "data": {
      "text/plain": [
       "[<matplotlib.lines.Line2D at 0x7fbf3987e5f8>]"
      ]
     },
     "execution_count": 7,
     "metadata": {},
     "output_type": "execute_result"
    },
    {
     "data": {
      "image/png": "[encoded data removed]",
      "text/plain": [
       "<Figure size 432x288 with 1 Axes>"
      ]
     },
     "metadata": {
      "needs_background": "light"
     },
     "output_type": "display_data"
    }
   ],
   "source": [
    "n_train = 7000\n",
    "n_test = 3000\n",
    "batch_size = 64\n",
    "import tqdm\n",
    "\n",
    "#create test and train datasets\n",
    "train_data = torch.utils.data.TensorDataset(torch.tensor(normed_inputs[:n_train]).float(),\n",
    "                                            torch.tensor(normed_outputs[:n_train]).float())\n",
    "\n",
    "test_data = torch.utils.data.TensorDataset(torch.tensor(normed_inputs[n_train:]).float(),\n",
    "                                            torch.tensor(normed_outputs[n_train:]).float())\n",
    "\n",
    "train_loader = torch.utils.data.DataLoader(train_data, batch_size=batch_size, shuffle=True)\n",
    "test_loader = torch.utils.data.DataLoader(test_data, batch_size=batch_size, shuffle=True)\n",
    "\n",
    "model = NN()\n",
    "\n",
    "\n",
    "train_losses = []\n",
    "test_losses = []\n",
    "n_epochs = 100\n",
    "for epoch in tqdm.tqdm(range(1, n_epochs + 1)):\n",
    "    train_losses.append( train_model(model, epoch, train_loader) )\n",
    "    test_losses.append( test_model(model, test_loader) )\n",
    "\n",
    "plt.plot( train_losses )\n",
    "plt.plot( test_losses )\n",
    "#plt.yscale('log')"
   ]
  },
  {
   "cell_type": "markdown",
   "metadata": {},
   "source": [
    "<div class=\"alert alert-block alert-info\">\n",
    "    \n",
    "**Task:** \n",
    "    Use Bayesian optimization to minimize the bunch length (i.e. the first of the 2 features that are returned by `simple_linarc`) with respect to phase, r56, and final_energy (i.e. the 3 input features that we passed to `simple_linarc` when previously generating the dataset for the neural network). \n",
    "    \n",
    "Use the first 10 elements of the previously-created arrays `inputs` and `outputs` as the initial dataset on which to fit the initial Gaussian Process (at the beginning of Bayesian optimization). Then, at each iteration of Bayesian optimization, call the `simple_linarc` function on the new candidate point. \n",
    "    \n",
    "Run 6 steps of Bayesian optimization and print the values of the bunch length obtained at each iteration. What is the best value obtained so far?\n",
    "</div>"
   ]
  },
  {
   "cell_type": "code",
   "execution_count": 8,
   "metadata": {},
   "outputs": [
    {
     "name": "stdout",
     "output_type": "stream",
     "text": [
      "tensor([[0.0010],\n",
      "        [0.0026],\n",
      "        [0.0011],\n",
      "        [0.0018],\n",
      "        [0.0078],\n",
      "        [0.0008],\n",
      "        [0.0027],\n",
      "        [0.0032],\n",
      "        [0.0012],\n",
      "        [0.0070]])\n",
      "tensor([0.0137])\n",
      "tensor([0.0022])\n",
      "tensor([0.0015])\n",
      "tensor([0.0007])\n",
      "tensor([0.0021])\n",
      "tensor([0.0085])\n"
     ]
    }
   ],
   "source": [
    "import botorch\n",
    "from botorch.models import SingleTaskGP\n",
    "from botorch.fit import fit_gpytorch_model\n",
    "from gpytorch.mlls import ExactMarginalLogLikelihood\n",
    "from botorch.acquisition import ExpectedImprovement\n",
    "from botorch.optim import optimize_acqf\n",
    "\n",
    "#re-generate initialization data\n",
    "#-------------------------------------------------------\n",
    "\n",
    "#generate input space training samples\n",
    "train_x = inputs[:10]\n",
    "\n",
    "#do observations of the objective\n",
    "train_y = outputs[:10,0].reshape(-1,1)\n",
    "\n",
    "#normalize x\n",
    "normed_train_x = tx.forward(train_x)\n",
    "transformer_y = transformer.Transformer(train_y, \n",
    "                                        transform_type = 'standardize')\n",
    "\n",
    "normed_train_y = transformer_y.forward(train_y)\n",
    "gp = SingleTaskGP(normed_train_x, normed_train_y)\n",
    "\n",
    "#start optimization\n",
    "#-------------------------------------------------\n",
    "\n",
    "n_steps = 6\n",
    "\n",
    "print(train_y)\n",
    "\n",
    "for i in range(n_steps):\n",
    "    \n",
    "    #Expected Improvement\n",
    "    best_normed_y = torch.min(normed_train_y)\n",
    "    EI = ExpectedImprovement(gp, best_normed_y, maximize = False)\n",
    "    \n",
    "    \n",
    "    #optimize acquisition function - see https://botorch.org/api/optim.html# for details\n",
    "    candidate, acq_value = optimize_acqf(EI, bounds = torch.tensor([ [0.,0.,0.], [1.,1.,1.] ]),\n",
    "                                             num_restarts = 20, q = 1,\n",
    "                                             raw_samples = 20)\n",
    "    \n",
    "    #add unnormed candidate to training data\n",
    "    train_x = torch.cat((train_x, tx.backward(candidate)))\n",
    "    normed_train_x = tx.forward(train_x)\n",
    "    \n",
    "    \n",
    "    #do observation - add to training data - recompute transformer - transform to standardized space\n",
    "    new_y0 = simple_linarc.propagate( linac_phase=train_x[-1,0], arc_r56=train_x[-1,1], linac_final_E=train_x[-1,2] )\n",
    "    train_y = torch.cat((train_y, new_y0[:,0].reshape(-1,1)))\n",
    "    transformer_y = transformer.Transformer(train_y, \n",
    "                                        transform_type = 'standardize')\n",
    "\n",
    "    normed_train_y = transformer_y.forward(train_y)\n",
    "    \n",
    "    #Gaussian Process model with Matern(5/2) kernel and Gaussian likelihood\n",
    "    gp = SingleTaskGP(normed_train_x, normed_train_y)\n",
    "\n",
    "    \n",
    "    # train model hyperparameters minimizing negative-Log-Marginal-Likelihood\n",
    "    mll = ExactMarginalLogLikelihood(gp.likelihood, gp)\n",
    "    fit_gpytorch_model(mll);\n",
    "    \n",
    "    print(train_y[-1])"
   ]
  }
 ],
 "metadata": {
  "kernelspec": {
   "display_name": "Python 3",
   "language": "python",
   "name": "py3"
  },
  "language_info": {
   "codemirror_mode": {
    "name": "ipython",
    "version": 3
   },
   "file_extension": ".py",
   "mimetype": "text/x-python",
   "name": "python",
   "nbconvert_exporter": "python",
   "pygments_lexer": "ipython3",
   "version": "3.7.2"
  }
 },
 "nbformat": 4,
 "nbformat_minor": 4
}
