{
 "cells": [
  {
   "cell_type": "markdown",
   "metadata": {},
   "source": [
    "# Lab 01 - Local Optimization\n",
    "## Tasks\n",
    "- Introduction to PyTorch - will be used throughout the course\n",
    "- Introduction to autograd\n",
    "- Implement gradient descent using autograd framework\n",
    "- Optimize a simple quadrupole triplet"
   ]
  },
  {
   "cell_type": "markdown",
   "metadata": {},
   "source": [
    "## Set up environment"
   ]
  },
  {
   "cell_type": "code",
   "execution_count": 1,
   "metadata": {},
   "outputs": [
    {
     "name": "stdout",
     "output_type": "stream",
     "text": [
      "\u001b[33mWARNING: You are using pip version 21.1.2; however, version 21.1.3 is available.\n",
      "You should consider upgrading via the '/home/vagrant/.pyenv/versions/3.7.2/envs/py3/bin/python -m pip install --upgrade pip' command.\u001b[0m\n"
     ]
    }
   ],
   "source": [
    "!pip install git+https://github.com/uspas/2021_optimization_and_ml --quiet"
   ]
  },
  {
   "cell_type": "code",
   "execution_count": 2,
   "metadata": {},
   "outputs": [],
   "source": [
    "%reset -f\n",
    "\n",
    "import numpy as np\n",
    "import matplotlib.pyplot as plt\n",
    "\n",
    "#matplotlib graphs will be included in your notebook, next to the code:\n",
    "%matplotlib inline\n",
    "\n",
    "#import toy accelerator package\n",
    "from uspas_ml.accelerator_toy_models import simple_lattices\n",
    "\n",
    "import torch"
   ]
  },
  {
   "cell_type": "markdown",
   "metadata": {},
   "source": [
    "## Introduction to PyTorch\n",
    "PyTorch is a machine learning library which implements autograd functionality (more on this in a bit). It will be useful for creating and training surrogate models. Many function implemented in numpy for `ndarrays` are also implemented in PyTorch with the `torch.Tensor` class. Here we show some examples of using `torch.Tensor`."
   ]
  },
  {
   "cell_type": "code",
   "execution_count": 3,
   "metadata": {},
   "outputs": [],
   "source": [
    "data = [[1, 2],[3, 4]]\n",
    "x_data = torch.tensor(data)"
   ]
  },
  {
   "cell_type": "code",
   "execution_count": 4,
   "metadata": {},
   "outputs": [],
   "source": [
    "np_array = np.array(data)\n",
    "x_np = torch.from_numpy(np_array)"
   ]
  },
  {
   "cell_type": "code",
   "execution_count": 5,
   "metadata": {},
   "outputs": [
    {
     "name": "stdout",
     "output_type": "stream",
     "text": [
      "Ones Tensor: \n",
      " tensor([[1, 1],\n",
      "        [1, 1]]) \n",
      "\n",
      "Random Tensor: \n",
      " tensor([[0.3485, 0.7569],\n",
      "        [0.7730, 0.1621]]) \n",
      "\n"
     ]
    }
   ],
   "source": [
    "x_ones = torch.ones_like(x_data) # retains the properties of x_data\n",
    "print(f\"Ones Tensor: \\n {x_ones} \\n\")\n",
    "\n",
    "x_rand = torch.rand_like(x_data, dtype=torch.float) # overrides the datatype of x_data\n",
    "print(f\"Random Tensor: \\n {x_rand} \\n\")"
   ]
  },
  {
   "cell_type": "code",
   "execution_count": 6,
   "metadata": {},
   "outputs": [
    {
     "name": "stdout",
     "output_type": "stream",
     "text": [
      "Random Tensor: \n",
      " tensor([[0.7216, 0.5029, 0.7364],\n",
      "        [0.6530, 0.0670, 0.8354]]) \n",
      "\n",
      "Ones Tensor: \n",
      " tensor([[1., 1., 1.],\n",
      "        [1., 1., 1.]]) \n",
      "\n",
      "Zeros Tensor: \n",
      " tensor([[0., 0., 0.],\n",
      "        [0., 0., 0.]])\n"
     ]
    }
   ],
   "source": [
    "shape = (2,3,)\n",
    "rand_tensor = torch.rand(shape)\n",
    "ones_tensor = torch.ones(shape)\n",
    "zeros_tensor = torch.zeros(shape)\n",
    "\n",
    "print(f\"Random Tensor: \\n {rand_tensor} \\n\")\n",
    "print(f\"Ones Tensor: \\n {ones_tensor} \\n\")\n",
    "print(f\"Zeros Tensor: \\n {zeros_tensor}\")"
   ]
  },
  {
   "cell_type": "code",
   "execution_count": 7,
   "metadata": {},
   "outputs": [
    {
     "name": "stdout",
     "output_type": "stream",
     "text": [
      "Shape of tensor: torch.Size([3, 4])\n",
      "Datatype of tensor: torch.float32\n",
      "Device tensor is stored on: cpu\n"
     ]
    }
   ],
   "source": [
    "tensor = torch.rand(3,4)\n",
    "\n",
    "print(f\"Shape of tensor: {tensor.shape}\")\n",
    "print(f\"Datatype of tensor: {tensor.dtype}\")\n",
    "print(f\"Device tensor is stored on: {tensor.device}\")"
   ]
  },
  {
   "cell_type": "code",
   "execution_count": 8,
   "metadata": {},
   "outputs": [
    {
     "name": "stdout",
     "output_type": "stream",
     "text": [
      "First row:  tensor([1., 1., 1., 1.])\n",
      "First column:  tensor([1., 1., 1., 1.])\n",
      "Last column: tensor([1., 1., 1., 1.])\n",
      "tensor([[1., 0., 1., 1.],\n",
      "        [1., 0., 1., 1.],\n",
      "        [1., 0., 1., 1.],\n",
      "        [1., 0., 1., 1.]])\n"
     ]
    }
   ],
   "source": [
    "tensor = torch.ones(4, 4)\n",
    "print('First row: ',tensor[0])\n",
    "print('First column: ', tensor[:, 0])\n",
    "print('Last column:', tensor[..., -1])\n",
    "tensor[:,1] = 0\n",
    "print(tensor)"
   ]
  },
  {
   "cell_type": "code",
   "execution_count": 9,
   "metadata": {},
   "outputs": [
    {
     "name": "stdout",
     "output_type": "stream",
     "text": [
      "tensor([[1., 0., 1., 1., 1., 0., 1., 1., 1., 0., 1., 1.],\n",
      "        [1., 0., 1., 1., 1., 0., 1., 1., 1., 0., 1., 1.],\n",
      "        [1., 0., 1., 1., 1., 0., 1., 1., 1., 0., 1., 1.],\n",
      "        [1., 0., 1., 1., 1., 0., 1., 1., 1., 0., 1., 1.]])\n"
     ]
    }
   ],
   "source": [
    "t1 = torch.cat([tensor, tensor, tensor], dim=1)\n",
    "print(t1)"
   ]
  },
  {
   "cell_type": "code",
   "execution_count": 10,
   "metadata": {},
   "outputs": [
    {
     "data": {
      "text/plain": [
       "tensor([[1., 0., 1., 1.],\n",
       "        [1., 0., 1., 1.],\n",
       "        [1., 0., 1., 1.],\n",
       "        [1., 0., 1., 1.]])"
      ]
     },
     "execution_count": 10,
     "metadata": {},
     "output_type": "execute_result"
    }
   ],
   "source": [
    "# This computes the matrix multiplication between two tensors. y1, y2, y3 will have the same value\n",
    "y1 = tensor @ tensor.T\n",
    "y2 = tensor.matmul(tensor.T)\n",
    "\n",
    "y3 = torch.rand_like(tensor)\n",
    "torch.matmul(tensor, tensor.T, out=y3)\n",
    "\n",
    "\n",
    "# This computes the element-wise product. z1, z2, z3 will have the same value\n",
    "z1 = tensor * tensor\n",
    "z2 = tensor.mul(tensor)\n",
    "\n",
    "z3 = torch.rand_like(tensor)\n",
    "torch.mul(tensor, tensor, out=z3)"
   ]
  },
  {
   "cell_type": "code",
   "execution_count": 11,
   "metadata": {},
   "outputs": [
    {
     "name": "stdout",
     "output_type": "stream",
     "text": [
      "12.0 <class 'float'>\n"
     ]
    }
   ],
   "source": [
    "# This sums all the elements of a tensor\n",
    "agg = tensor.sum()\n",
    "agg_item = agg.item()\n",
    "print(agg_item, type(agg_item))"
   ]
  },
  {
   "cell_type": "code",
   "execution_count": 12,
   "metadata": {},
   "outputs": [
    {
     "name": "stdout",
     "output_type": "stream",
     "text": [
      "tensor([[1., 0., 1., 1.],\n",
      "        [1., 0., 1., 1.],\n",
      "        [1., 0., 1., 1.],\n",
      "        [1., 0., 1., 1.]]) \n",
      "\n",
      "tensor([[6., 5., 6., 6.],\n",
      "        [6., 5., 6., 6.],\n",
      "        [6., 5., 6., 6.],\n",
      "        [6., 5., 6., 6.]])\n",
      "tensor([[11., 10., 11., 11.],\n",
      "        [11., 10., 11., 11.],\n",
      "        [11., 10., 11., 11.],\n",
      "        [11., 10., 11., 11.]])\n"
     ]
    }
   ],
   "source": [
    "# Add a scalar to all the elements of a tensor\n",
    "print(tensor, \"\\n\")\n",
    "tensor.add_(5)\n",
    "print(tensor)\n",
    "tensor += 5\n",
    "print(tensor)"
   ]
  },
  {
   "cell_type": "markdown",
   "metadata": {},
   "source": [
    "## A note regarding tensor shapes\n",
    "Paying attention to the shape of your tensors/numpy arrays is important, especially if you don't have a lot of experience programming. In general ML algorithms accept 2D arrays where the shape is given by `(number_of_samples, dimension_of_samples)`. Even if the input parameter is 1D the input shape should be `(number_of_samples, 1)`. \n",
    "\n",
    "Furthermore it is important to remember that slicing along a single axis returns a 1D tensor/array ie. `x[:,0]` returns an array shape of `(n_samples,)`.\n",
    "\n",
    "Functions that will be useful for manipulating the shape of a tensor/array:\n",
    "- `.reshape()`\n",
    "- `.unsqueeze()`\n",
    "- `.squeeze()`\n",
    "- `.flatten()`\n"
   ]
  },
  {
   "cell_type": "markdown",
   "metadata": {},
   "source": [
    "## GPU Integration\n",
    "To speed up many of the computations that we will do in this course we will move our data/models to a GPU. This works best when doing large matrix calculations or batch optimization routines. Keep in mind the time cost associated with moving data back and forth between a CPU and a GPU, this can slow down smaller scale calculations. "
   ]
  },
  {
   "cell_type": "code",
   "execution_count": 13,
   "metadata": {},
   "outputs": [],
   "source": [
    "# We move our tensor to the GPU if available\n",
    "if torch.cuda.is_available():\n",
    "    tensor = tensor.to('cuda')"
   ]
  },
  {
   "attachments": {
    "image.png": {
     "image/png": "[encoded data removed]"
    }
   },
   "cell_type": "markdown",
   "metadata": {},
   "source": [
    "## Autograd with PyTorch\n",
    "Its hard to overstate the importance of Automatic Differentiation (commonly referred to Autograd) to the machine learning community. It forms the basis for training/optimizing surrogate models such as Gaussian Processes and Neural Networks.\n",
    "\n",
    "Autograd is a framework for doing calculations while keeping track of the derivatives associated with each calculation step. We will then be able to calculate the total derivative of say, the beam size vs. a quadrupole strength parameter. This will be used to train surrogate models with derivative based optimization methods (gradient descent and its descendants).\n",
    "\n",
    "Autograd works by creating what is known by a computational graph (an example of which is below). The graph has a set of what are known as leaf nodes (or tensors) $a,w_1,w_2,w_3,w_4$ which represent input variables that we choose. We wish to compute how changing these variables will effect the result $L$. Each of the lines on the computation graph represent a single calculation which we will need the derivate of to calculate the total derivative.\n",
    "![image.png](attachment:image.png)\n",
    "\n",
    "Our calculation will involve a number of discrete steps, each which create intermediate variables seen below:\n",
    "\n",
    "$\n",
    "\\begin{align}\n",
    "    b & = w_1 * a\\\\\n",
    "    c & = w_2 * a\\\\\n",
    "    d & = w_3*b + w_4*c\\\\\n",
    "    L & = 10 -d\n",
    "\\end{align}\n",
    "$\n",
    "\n",
    "In order to calculate the total derivative of L with respect to say $w_1$ we use the chain rule\n",
    "\n",
    "$$\n",
    "\\frac{dL}{dw_1} = \\frac{\\partial L}{\\partial d}\\frac{\\partial d}{\\partial b}\\frac{\\partial b}{\\partial w_1}\n",
    "$$\n",
    "\n",
    "Using PyTorch the partial derivatives for each calculation are easily calculated for a wide variety of calculations and variable manipulations that we need for model building and programming. Furthermore, this is easily done with thousands of variables and/or manipulations at a time! Thanks PyTorch!\n",
    "\n",
    "Lets take a look at how this can be done in practice. We start with defining some variables that we will need the derivatives with respect to by specifying `requires_grad = True` during creation."
   ]
  },
  {
   "cell_type": "code",
   "execution_count": 14,
   "metadata": {},
   "outputs": [],
   "source": [
    "#define variables (the chosen values here are arbitrary)\n",
    "a = torch.tensor([2.], requires_grad=True)\n",
    "w1 = torch.tensor([3.], requires_grad=True)\n",
    "w2 = torch.tensor([1.], requires_grad=True)\n",
    "w3 = torch.tensor([0.5], requires_grad=True)\n",
    "w4 = torch.tensor([-2.], requires_grad=True)\n",
    "\n",
    "#do the calculation\n",
    "b = w1*a\n",
    "c = w2*a\n",
    "d = w3*b + w4*c\n",
    "L = 10 - d"
   ]
  },
  {
   "cell_type": "markdown",
   "metadata": {},
   "source": [
    "To calculate the derivatives we call `L.backward()`. After calling `backward()` the gradients are stored in the `.grad` attribute of each variable."
   ]
  },
  {
   "cell_type": "code",
   "execution_count": 15,
   "metadata": {},
   "outputs": [
    {
     "name": "stdout",
     "output_type": "stream",
     "text": [
      "tensor([0.5000])\n",
      "tensor([-2.])\n"
     ]
    }
   ],
   "source": [
    "L.backward()\n",
    "print(a.grad)\n",
    "print(w4.grad)"
   ]
  },
  {
   "cell_type": "markdown",
   "metadata": {},
   "source": [
    "Note that we are calculating the gradient of $a$ and $w_4$ evaluated at their currently set values. In other words the grad attribute gives us\n",
    "\n",
    "$$\n",
    "\\frac{dL}{da}\\Big\\rvert_{a = 2}\n",
    "$$"
   ]
  },
  {
   "cell_type": "markdown",
   "metadata": {},
   "source": [
    "<div class=\"alert alert-block alert-info\">\n",
    "    \n",
    "**Task:** \n",
    "    Calculate (by hand) the quantity $\\frac{dL}{dw_1}$, and check that this is consistent with the result given by `w1.grad`.\n",
    "    \n",
    "</div>"
   ]
  },
  {
   "cell_type": "code",
   "execution_count": 16,
   "metadata": {},
   "outputs": [
    {
     "name": "stdout",
     "output_type": "stream",
     "text": [
      "tensor([-1.])\n"
     ]
    }
   ],
   "source": [
    "print(w1.grad) # Check that this is consistent with your analytical calculation"
   ]
  },
  {
   "cell_type": "markdown",
   "metadata": {},
   "source": [
    "Note that, if you redo the calculation a second time, the gradient will **accumulate**:"
   ]
  },
  {
   "cell_type": "code",
   "execution_count": 17,
   "metadata": {},
   "outputs": [
    {
     "name": "stdout",
     "output_type": "stream",
     "text": [
      "tensor([-2.])\n"
     ]
    }
   ],
   "source": [
    "# redo the calculation a second time\n",
    "b = w1*a\n",
    "c = w2*a\n",
    "d = w3*b + w4*c\n",
    "L = 10 - d\n",
    "# call backward to calculate the gradients a second time\n",
    "L.backward()\n",
    "# print gradient\n",
    "print(w1.grad)"
   ]
  },
  {
   "cell_type": "markdown",
   "metadata": {},
   "source": [
    "If you want to avoid this, you can call `.grad.zero_()`"
   ]
  },
  {
   "cell_type": "code",
   "execution_count": 18,
   "metadata": {},
   "outputs": [
    {
     "name": "stdout",
     "output_type": "stream",
     "text": [
      "tensor([-1.])\n"
     ]
    }
   ],
   "source": [
    "# zero the gradient\n",
    "w1.grad.zero_()\n",
    "# redo the calculation a third time\n",
    "b = w1*a\n",
    "c = w2*a\n",
    "d = w3*b + w4*c\n",
    "L = 10 - d\n",
    "# call backward to calculate the gradients a third time\n",
    "L.backward()\n",
    "# print gradient\n",
    "print(w1.grad)"
   ]
  },
  {
   "cell_type": "markdown",
   "metadata": {},
   "source": [
    "Note that you can also ask `pytorch` to temporarily stop tracking the gradients for certain operations:"
   ]
  },
  {
   "cell_type": "code",
   "execution_count": 19,
   "metadata": {},
   "outputs": [],
   "source": [
    "with torch.no_grad():\n",
    "    w1 = 2*w1"
   ]
  },
  {
   "cell_type": "markdown",
   "metadata": {},
   "source": [
    "## Gradient descent\n",
    "\n",
    "<div class=\"alert alert-block alert-info\">\n",
    "    \n",
    "**Task:** \n",
    "    Now its your turn! Implement a gradient descent algortihm to minimize a simple test function below using autograd. Complete the implementation of the function `gradient_descent` below, to perform 100 iterations of gradient descent.\n",
    "\n",
    "- implement the gradient descent algorithm using the above-mentioned features of pytorch\n",
    "- record the values of `X0` as you go and generate a plot that shows how gradient descent travels through input space\n",
    "- given the form of `test_function`, which value do you expect `X0` to converge to?\n",
    "- redo the plot for 3 different values of the step size `alpha` [0.005, 0.1, 1.0 ]\n",
    "    \n",
    "</div>"
   ]
  },
  {
   "cell_type": "code",
   "execution_count": 20,
   "metadata": {},
   "outputs": [],
   "source": [
    "def test_function(X):\n",
    "    \"\"\"\n",
    "    Function to be optimized.\n",
    "    \n",
    "    Input: X, a pytorch tensor of shape (2,)\n",
    "    Output: a single scalar\n",
    "    \"\"\"\n",
    "    return (X[0] - 0.5)**2 + X[1]**2\n",
    "\n",
    "def gradient_descent(X0, function, alpha=0.1, n_iterations=100):\n",
    "    \"\"\"\n",
    "    Performs 100 iterations of gradient descent\n",
    "    \n",
    "    Inputs:\n",
    "    X0: a pytorch tensor to be modified in-place by the gradient descent algorithm\n",
    "    function: a callable, that takes X0 as input\n",
    "    alpha: step size for the gradient descent algorithm\n",
    "    n_iterations: number of iterations of gradient descent\n",
    "    \n",
    "    Returns:\n",
    "    history_X: array of values of X\n",
    "    history_f: array of values of f\n",
    "    \"\"\"\n",
    "    history_X = []\n",
    "    history_f = []\n",
    "    for iteration in range(n_iterations): # iterations of gradient descent\n",
    "        f = function(X0)\n",
    "        \n",
    "        # Your code that modifies X0 in-place here\n",
    "        # ...\n",
    "        \n",
    "        # START SOLUTION\n",
    "        f.backward()\n",
    "        with torch.no_grad():\n",
    "            X0 -= alpha*X0.grad\n",
    "        X0.grad.zero_()\n",
    "        # END SOLUTION\n",
    "        \n",
    "        # Keep a copy in history (do not modify these lines)\n",
    "        history_X.append( X0.detach().numpy().copy() ) \n",
    "        history_f.append( f.detach().numpy().copy() )\n",
    "        \n",
    "    return np.array(history_X), np.array(history_f)"
   ]
  },
  {
   "cell_type": "code",
   "execution_count": 21,
   "metadata": {},
   "outputs": [
    {
     "data": {
      "text/plain": [
       "[<matplotlib.lines.Line2D at 0x7fb20f1aab00>]"
      ]
     },
     "execution_count": 21,
     "metadata": {},
     "output_type": "execute_result"
    },
    {
     "data": {
      "image/png": "[encoded data removed]",
      "text/plain": [
       "<Figure size 432x288 with 1 Axes>"
      ]
     },
     "metadata": {
      "needs_background": "light"
     },
     "output_type": "display_data"
    },
    {
     "data": {
      "image/png": "[encoded data removed]",
      "text/plain": [
       "<Figure size 432x288 with 1 Axes>"
      ]
     },
     "metadata": {
      "needs_background": "light"
     },
     "output_type": "display_data"
    }
   ],
   "source": [
    "# Test your code by executing the code below\n",
    "X0 = torch.tensor([0.9,0.9], requires_grad=True)\n",
    "alpha = 0.1\n",
    "\n",
    "history_X, history_f = gradient_descent( X0, test_function, alpha)\n",
    "\n",
    "# Plot the trajectory of the points\n",
    "plt.scatter( history_X[:,0], history_X[:,1], c=np.arange(len(history_X)))\n",
    "plt.xlim(-1, 1)\n",
    "plt.ylim(-1, 1)\n",
    "\n",
    "plt.figure()\n",
    "plt.plot(history_f)"
   ]
  },
  {
   "attachments": {
    "triplet_diagram.png": {
     "image/png": "[encoded data removed]"
    }
   },
   "cell_type": "markdown",
   "metadata": {},
   "source": [
    "## Accelerator example\n",
    "Now we will use gradient descent to optimize the strengths of quadrupoles in a triplet configuration. \n",
    "\n",
    "![triplet_diagram.png](attachment:triplet_diagram.png)\n",
    "\n",
    "\n",
    "The function below creates a quadrupole triplet as defined in simple_lattices.py (see the accelerator toy models) and returns $\\sqrt{\\sigma_x^2 + \\sigma_y^2}$ for an initial beam matrix defined in the function below.\n",
    "\n",
    "Remember that the beam matrix takes the form of \n",
    "\n",
    "$\n",
    "\\Sigma = \n",
    "\\begin{bmatrix}\n",
    "\\sigma_{11} & \\sigma_{12} & \\sigma_{13} & \\sigma_{14} & \\sigma_{15} & \\sigma_{16} \\\\\n",
    "\\sigma_{21} & \\sigma_{22} & \\sigma_{23} & \\sigma_{24} & \\sigma_{25} & \\sigma_{26} \\\\\n",
    "\\sigma_{31} & \\sigma_{32} & \\sigma_{33} & \\sigma_{34} & \\sigma_{35} & \\sigma_{36} \\\\\n",
    "\\sigma_{41} & \\sigma_{42} & \\sigma_{43} & \\sigma_{44} & \\sigma_{45} & \\sigma_{46} \\\\\n",
    "\\sigma_{51} & \\sigma_{52} & \\sigma_{53} & \\sigma_{54} & \\sigma_{55} & \\sigma_{56} \\\\\n",
    "\\sigma_{61} & \\sigma_{62} & \\sigma_{63} & \\sigma_{64} & \\sigma_{65} & \\sigma_{66} \\\\\n",
    "\\end{bmatrix}\n",
    "$\n",
    "\n",
    "where for example $\\sigma_{11} = \\sigma_x^2, \\sigma_{12} = \\sigma_{x,x'}$ etc.\n",
    "\n",
    "We start with the following initial beam matrix.\n",
    "$\n",
    "\\Sigma = \n",
    "\\begin{bmatrix}\n",
    "1e-6 & 0 & 0 & 0 & 0 & 0 \\\\\n",
    "0 & 1e-8 & 0 & 0 & 0 & 0 \\\\\n",
    "0 & 0 & 1e-6 & 0 & 0 & 0 \\\\\n",
    "0 & 0 & 0 & 1e-8 & 0 & 0 \\\\\n",
    "0 & 0 & 0 & 0 & 1e-8 & 0 \\\\\n",
    "0 & 0 & 0 & 0 & 0 & 1e-8 \\\\\n",
    "\\end{bmatrix}\n",
    "$"
   ]
  },
  {
   "cell_type": "code",
   "execution_count": 34,
   "metadata": {},
   "outputs": [],
   "source": [
    "def beamsize(K , noise = 0.0):\n",
    "    '''\n",
    "    calculate sqrt(sigma_x^2 + sigma_y^2)\n",
    "    \n",
    "    K : magnetic strength of each quad magnet, torch.tensor, shape (3,)\n",
    "    noise : rms noise level of measurement, float (default 0.0)\n",
    "    \n",
    "    Returns: the beam size in mm\n",
    "    '''\n",
    "    \n",
    "    #generate initial beam matrix\n",
    "    # - x/y/z geometric emittance of 1.0e-8 m-rad\n",
    "    init_beam_matrix = torch.eye(6) * 1.0e-8\n",
    "\n",
    "    #set x_rms beam size to 1 mm and rms divergence to 0.1 mrad\n",
    "    init_beam_matrix[0,0] = 1.0e-3 ** 2 \n",
    "    init_beam_matrix[1,1] = 1.0e-4 ** 2 \n",
    "    init_beam_matrix[2,2] = 1.0e-3 ** 2 \n",
    "    init_beam_matrix[3,3] = 1.0e-4 ** 2 \n",
    "    \n",
    "    #create accelerator lattice object with one quad and a drift\n",
    "    line = simple_lattices.create_triplet(K.flatten())\n",
    "    \n",
    "    #propagate beam matrix\n",
    "    final_beam_matrix = line.propagate_beam_matrix(init_beam_matrix, noise)\n",
    "    return 1.e3*torch.sqrt(final_beam_matrix[0,0] + final_beam_matrix[2,2]) #Convert to mm"
   ]
  },
  {
   "cell_type": "code",
   "execution_count": 35,
   "metadata": {},
   "outputs": [
    {
     "name": "stdout",
     "output_type": "stream",
     "text": [
      "True\n",
      "tensor(1.4997, grad_fn=<MulBackward0>)\n",
      "tensor([0.0003, 0.0005, 0.0002])\n"
     ]
    }
   ],
   "source": [
    "#example usage\n",
    "K = torch.tensor([1.0, -1.0, 0.5], requires_grad = True)\n",
    "print(K.requires_grad)\n",
    "size = beamsize(K)\n",
    "print(size)\n",
    "size.backward()\n",
    "print(K.grad)"
   ]
  },
  {
   "cell_type": "markdown",
   "metadata": {},
   "source": [
    "## Gradient Descent on the Accelerator Example\n",
    "\n",
    "<div class=\"alert alert-block alert-info\">\n",
    "    \n",
    "**Task:**\n",
    "    Now apply gradient descent to optimizing the quadrupole strengths to minimize the total final beam size using the above function. Write the corresponding code below. (Feel free to reuse the function `gradient_descent` and to tune `alpha` and `n_iterations` to reach convergence - which you can assess by plotting the returned history ; do not hesitate to use a large value for `alpha`.)\n",
    "    \n",
    "What is the value of the beamsize that is obtained at the end of the optimization?\n",
    "    \n",
    "</div>"
   ]
  },
  {
   "cell_type": "code",
   "execution_count": 50,
   "metadata": {},
   "outputs": [],
   "source": [
    "K = torch.tensor([10.0, -10.0, 5.0], requires_grad = True)\n",
    "alpha = 100.0\n",
    "\n",
    "history_X, history_f = gradient_descent(K, beamsize, alpha, n_iterations=3000)\n",
    "\n"
   ]
  },
  {
   "cell_type": "markdown",
   "metadata": {},
   "source": [
    "**Your answer here:** (What is the value of the beamsize that is obtained at the end of the optimization?)"
   ]
  },
  {
   "cell_type": "code",
   "execution_count": 51,
   "metadata": {},
   "outputs": [
    {
     "data": {
      "text/plain": [
       "[<matplotlib.lines.Line2D at 0x7fb20f1ea710>]"
      ]
     },
     "execution_count": 51,
     "metadata": {},
     "output_type": "execute_result"
    },
    {
     "data": {
      "image/png": "[encoded data removed]",
      "text/plain": [
       "<Figure size 432x288 with 1 Axes>"
      ]
     },
     "metadata": {
      "needs_background": "light"
     },
     "output_type": "display_data"
    }
   ],
   "source": [
    "# START SOLUTION\n",
    "plt.plot(history_f)\n",
    "# END SOLUTION"
   ]
  },
  {
   "cell_type": "markdown",
   "metadata": {},
   "source": [
    "## Gradient descent with numerical differentiation\n",
    "\n",
    "<div class=\"alert alert-block alert-success\">\n",
    "    \n",
    "**Homework:**\n",
    "    Try to minimize again the beam size, but using numerical differentiation instead of autograd. In this case, you will **not** call the `.backward` and `.grad` functions, but instead you will need to calculate the gradient numerically: vary in the input `K` by `h=1.e-2` in each direction, in order to compute the gradient of `beam_size`.\n",
    "    \n",
    "(Note that, because we do not call `.backward`, we also do not need to set `requires_grad = True`.)\n",
    "    \n",
    "Does the algorithm reach the same final value, for the beamsize?\n",
    "</div>"
   ]
  },
  {
   "cell_type": "code",
   "execution_count": 26,
   "metadata": {},
   "outputs": [],
   "source": [
    "def gradient_descent_nd(X0, function, alpha=0.1, n_iterations=100):\n",
    "    \"\"\"\n",
    "    Performs n_iterations iterations of gradient descent, \n",
    "    with numerical differentiation\n",
    "    \n",
    "    Inputs:\n",
    "    X0: a pytorch tensor to be modified in-place by the gradient descent algorithm\n",
    "    function: a callable, that takes X0 as input\n",
    "    alpha: step size for the gradient descent algorithm\n",
    "    n_iterations: number of iterations of gradient descent\n",
    "    \n",
    "    Returns:\n",
    "    history_X: array of values of X\n",
    "    history_f: array of values of f\n",
    "    \"\"\"\n",
    "    history_X = []\n",
    "    history_f = []\n",
    "    for iteration in range(n_iterations): # iterations of gradient descent\n",
    "        f = function(X0)\n",
    "        \n",
    "        # Your code that modifies X0 in-place here\n",
    "        # ...\n",
    "        \n",
    "        # START SOLUTION\n",
    "        h = 1.e-2\n",
    "        grad = torch.zeros_like(X0)\n",
    "        Xin = torch.zeros_like(X0)\n",
    "        for i in range(len(X0)):\n",
    "            Xin[:] = X0\n",
    "            Xin[i] += h\n",
    "            fi = function( Xin )\n",
    "            grad[i] = (fi-f)/h\n",
    "        X0 -= alpha*grad\n",
    "        # END SOLUTION\n",
    "        \n",
    "        # Keep a copy in history (do not modify these lines)\n",
    "        history_X.append( X0.detach().numpy().copy() ) \n",
    "        history_f.append( f.detach().numpy().copy() )\n",
    "        \n",
    "    return np.array(history_X), np.array(history_f)"
   ]
  },
  {
   "cell_type": "code",
   "execution_count": 27,
   "metadata": {},
   "outputs": [
    {
     "data": {
      "text/plain": [
       "[<matplotlib.lines.Line2D at 0x7fb20d044c88>]"
      ]
     },
     "execution_count": 27,
     "metadata": {},
     "output_type": "execute_result"
    },
    {
     "data": {
      "image/png": "[encoded data removed]",
      "text/plain": [
       "<Figure size 432x288 with 1 Axes>"
      ]
     },
     "metadata": {
      "needs_background": "light"
     },
     "output_type": "display_data"
    }
   ],
   "source": [
    "# START SOLUTION\n",
    "K = torch.tensor([1.0, -1.0, 0.5])\n",
    "history_X, history_f = gradient_descent_nd( K, beamsize, 1.e2, 3000)\n",
    "plt.plot(history_f)\n",
    "# END SOLUTIONa"
   ]
  },
  {
   "cell_type": "markdown",
   "metadata": {},
   "source": [
    "**Your answer here:** (Does the algorithm reach the same value of `K`?)"
   ]
  },
  {
   "cell_type": "code",
   "execution_count": 28,
   "metadata": {},
   "outputs": [
    {
     "data": {
      "text/plain": [
       "'As expected, the algorithm reaches the same size at the end of the optimization (approximately 0.19 mm).'"
      ]
     },
     "execution_count": 28,
     "metadata": {},
     "output_type": "execute_result"
    }
   ],
   "source": [
    "# START SOLUTION\n",
    "\"\"\"As expected, the algorithm reaches the same size at the end of the optimization (approximately 0.19 mm).\"\"\"\n",
    "# END SOLUTION"
   ]
  },
  {
   "cell_type": "markdown",
   "metadata": {},
   "source": [
    "## Gradient descent with noise\n",
    "\n",
    "The function below emulates noise in the beam size measurement. \n",
    "Call this function several times for a given value of `K`. "
   ]
  },
  {
   "cell_type": "code",
   "execution_count": 29,
   "metadata": {},
   "outputs": [],
   "source": [
    "def beamsize_with_noise(K):\n",
    "    return beamsize(K, noise=2.e-5)"
   ]
  },
  {
   "cell_type": "code",
   "execution_count": 30,
   "metadata": {},
   "outputs": [
    {
     "data": {
      "text/plain": [
       "tensor(0.1885)"
      ]
     },
     "execution_count": 30,
     "metadata": {},
     "output_type": "execute_result"
    }
   ],
   "source": [
    "# Call this function several times to get a sense of how much \n",
    "# the noise is changing the result\n",
    "beamsize_with_noise(K)"
   ]
  },
  {
   "cell_type": "markdown",
   "metadata": {},
   "source": [
    "<div class=\"alert alert-block alert-success\">\n",
    "    \n",
    "**Homework:**\n",
    "    Now perform the same optimization as before, but on the function `beam_size_with_noise` instead of `beam_size`. Does the analytical gradient descent reach approximately the same final value of the beamsize as before? Does the version of gradient descent with finite difference reach the same value too? Why? (Plot the history of the beamsize in both cases.) \n",
    "</div>"
   ]
  },
  {
   "cell_type": "code",
   "execution_count": 31,
   "metadata": {},
   "outputs": [
    {
     "data": {
      "text/plain": [
       "[<matplotlib.lines.Line2D at 0x7fb20f0baac8>]"
      ]
     },
     "execution_count": 31,
     "metadata": {},
     "output_type": "execute_result"
    },
    {
     "data": {
      "image/png": "[encoded data removed]",
      "text/plain": [
       "<Figure size 432x288 with 1 Axes>"
      ]
     },
     "metadata": {
      "needs_background": "light"
     },
     "output_type": "display_data"
    }
   ],
   "source": [
    "# Your code here\n",
    "\n",
    "# START SOLUTION\n",
    "K = torch.tensor([1.0, -1.0, 0.5], requires_grad = True)\n",
    "history_X1, history_f1 = gradient_descent( K, beamsize_with_noise, 1.e2, n_iterations=3000 )\n",
    "\n",
    "K = torch.tensor([1.0, -1.0, 0.5])\n",
    "history_X2, history_f2 = gradient_descent_nd( K, beamsize_with_noise, 1.e2, n_iterations=3000 )\n",
    "\n",
    "plt.plot( history_f1)\n",
    "plt.plot( history_f2)\n",
    "# END SOLUTION"
   ]
  },
  {
   "cell_type": "markdown",
   "metadata": {},
   "source": [
    "**Your answer here:** (Does the analytical gradient descent reach approximately the same final value of the beamsize as before? Does the version of gradient descent with finite difference reach the same value too? Why?)"
   ]
  },
  {
   "cell_type": "code",
   "execution_count": 32,
   "metadata": {},
   "outputs": [
    {
     "data": {
      "text/plain": [
       "'With analytical differentiation, the beamsize reaches approximately the same \\nvalue (0.19 mm). With numerical differentiation, the beamsize does converge to the \\nsame value. This is because numerical differentiation amplifies the noise when \\ncalculating the gradient (see the lecture slides) ; the gradient calculation is \\ninaccurate and therefore gradient descent does not converge.'"
      ]
     },
     "execution_count": 32,
     "metadata": {},
     "output_type": "execute_result"
    }
   ],
   "source": [
    "# START SOLUTION\n",
    "\"\"\"With analytical differentiation, the beamsize reaches approximately the same \n",
    "value (0.19 mm). With numerical differentiation, the beamsize does converge to the \n",
    "same value. This is because numerical differentiation amplifies the noise when \n",
    "calculating the gradient (see the lecture slides) ; the gradient calculation is \n",
    "inaccurate and therefore gradient descent does not converge.\"\"\"\n",
    "# END SOLUTION"
   ]
  }
 ],
 "metadata": {
  "kernelspec": {
   "display_name": "Python 3",
   "language": "python",
   "name": "py3"
  },
  "language_info": {
   "codemirror_mode": {
    "name": "ipython",
    "version": 3
   },
   "file_extension": ".py",
   "mimetype": "text/x-python",
   "name": "python",
   "nbconvert_exporter": "python",
   "pygments_lexer": "ipython3",
   "version": "3.7.2"
  }
 },
 "nbformat": 4,
 "nbformat_minor": 4
}
