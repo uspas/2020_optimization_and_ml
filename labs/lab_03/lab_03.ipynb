{
 "cells": [
  {
   "cell_type": "markdown",
   "metadata": {},
   "source": [
    "# Lab 03 - Regression\n",
    "## Tasks\n",
    "- Explore linear regression and overfitting\n",
    "- Experiment with stocastic gradient descent"
   ]
  },
  {
   "cell_type": "markdown",
   "metadata": {},
   "source": [
    "# Set up environment"
   ]
  },
  {
   "cell_type": "code",
   "execution_count": 1,
   "metadata": {},
   "outputs": [],
   "source": [
    "!pip install git+https://github.com/uspas/2021_optimization_and_ml --quiet"
   ]
  },
  {
   "cell_type": "code",
   "execution_count": 2,
   "metadata": {},
   "outputs": [],
   "source": [
    "%reset -f\n",
    "\n",
    "import os\n",
    "import numpy as np\n",
    "import matplotlib.pyplot as plt\n",
    "\n",
    "#matplotlib graphs will be included in your notebook, next to the code:\n",
    "%matplotlib inline\n",
    "\n",
    "#import toy accelerator package\n",
    "from uspas_ml.accelerator_toy_models import high_dimensional_data_generator\n",
    "\n",
    "#import sklearn modules\n",
    "from sklearn import linear_model\n",
    "from sklearn.model_selection import train_test_split\n",
    "\n",
    "#import pytorch\n",
    "import torch"
   ]
  },
  {
   "cell_type": "markdown",
   "metadata": {},
   "source": [
    "## Linear regression\n",
    "We start with simple least squares linear regression. Our model is defined as follows:\n",
    "\n",
    "$\n",
    "\\mathbf{f}(\\mathbf{x}) = \\mathbf{x}^T\\mathbf{w} + \\mathbf{b}\n",
    "$\n",
    "\n",
    "Our objective is to determine the weights $\\mathbf{w}$ and the biases $\\mathbf{b}$ for a set of input variables (also referred to as \"features\") to best model the observed values $\\mathbf{f}$.\n",
    "\n",
    "We start by constructing a training set and a test set. We will train the model on the training set and then evaluate the model's abilitiy to correctly predict values from the test set. This (hopefully) allows us to evaluate if the model generalizes well to data outside the test set.\n",
    "\n",
    "One problem we face is overfitting (see https://en.wikipedia.org/wiki/Overfitting for more details). Here we will try to demonstrate methods for avoiding this problem."
   ]
  },
  {
   "cell_type": "code",
   "execution_count": 3,
   "metadata": {},
   "outputs": [
    {
     "name": "stdout",
     "output_type": "stream",
     "text": [
      "(1000, 1001)\n",
      "(700, 1000)\n"
     ]
    }
   ],
   "source": [
    "#load dataset - last column is f\n",
    "from uspas_ml.accelerator_toy_models import data_dir\n",
    "data = np.load(os.path.join(data_dir, 'complex_dataset.npy'))\n",
    "true_weights = np.load(os.path.join(data_dir, 'complex_dataset_weights.npy'))\n",
    "\n",
    "print(data.shape)\n",
    "x = data[:,:-1]\n",
    "f = data[:,-1]\n",
    "\n",
    "#split into training and test sets\n",
    "X_train, X_test, y_train, y_test = train_test_split(x, f, test_size=0.3, random_state=3)\n",
    "print(X_train.shape)"
   ]
  },
  {
   "cell_type": "code",
   "execution_count": 4,
   "metadata": {},
   "outputs": [
    {
     "name": "stdout",
     "output_type": "stream",
     "text": [
      "1.0\n",
      "0.6705457848150063\n"
     ]
    },
    {
     "data": {
      "image/png": "[encoded data removed]",
      "text/plain": [
       "<Figure size 432x288 with 1 Axes>"
      ]
     },
     "metadata": {
      "needs_background": "light"
     },
     "output_type": "display_data"
    }
   ],
   "source": [
    "#fit data with a linear model\n",
    "reg = linear_model.LinearRegression()\n",
    "reg.fit(X_train,y_train)\n",
    "reg.coef_\n",
    "\n",
    "#get training and test scores - least squared distance\n",
    "train_score = reg.score(X_train, y_train)\n",
    "test_score = reg.score(X_test, y_test)\n",
    "print(train_score)\n",
    "print(test_score)\n",
    "\n",
    "fig,ax = plt.subplots()\n",
    "ax.hist(reg.coef_, range = [-6,6]);"
   ]
  },
  {
   "cell_type": "markdown",
   "metadata": {},
   "source": [
    "<div class=\"alert alert-block alert-info\">\n",
    "    \n",
    "**Task:** \n",
    "    Refit the data using Ridge and Lasso regression with alpha = 0.01, 100 and plot histogram of weights Hint: use scikit-learn. Also plot a histogram of `true_weights` to compare. Also calculate the training and test scores for each. Which method is best for this data set?\n",
    "    \n",
    "</div>"
   ]
  },
  {
   "cell_type": "code",
   "execution_count": 5,
   "metadata": {},
   "outputs": [],
   "source": [
    "#Ridge regression"
   ]
  },
  {
   "cell_type": "code",
   "execution_count": 6,
   "metadata": {},
   "outputs": [],
   "source": [
    "#Lasso regression"
   ]
  },
  {
   "cell_type": "markdown",
   "metadata": {},
   "source": [
    "## Fitting a larger model\n",
    "We now want to fit larger models - MUCH LARGER MODELS. The dataset here has 2000 features and 100000 data points. Instead of using scikit-learn we will use PyTorch instead."
   ]
  },
  {
   "cell_type": "code",
   "execution_count": 7,
   "metadata": {},
   "outputs": [],
   "source": [
    "#generate data\n",
    "high_dimensional_data_generator.generate_data()"
   ]
  },
  {
   "cell_type": "code",
   "execution_count": 10,
   "metadata": {},
   "outputs": [
    {
     "name": "stdout",
     "output_type": "stream",
     "text": [
      "(100000, 2001)\n"
     ]
    }
   ],
   "source": [
    "#load large dataset - last column is f\n",
    "data = np.load('complex_dataset_large.npy')\n",
    "true_weights = np.load('complex_dataset_weights_large.npy')\n",
    "\n",
    "print(data.shape)\n",
    "x = torch.from_numpy(data[:,:-1]).float()\n",
    "f = torch.from_numpy(data[:,-1]).float()\n",
    "\n",
    "#normalize data to range [0,1]\n",
    "f = (f - torch.min(f)) / (torch.max(f) - torch.min(f))\n",
    "\n",
    "#add data to dataset objects, which allows us to easily split data into train/test sets and shuffle the data as needed\n",
    "train_fraction = 0.7\n",
    "n_train = int(train_fraction*x.shape[0])\n",
    "n_test = x.shape[0] - n_train\n",
    "train_data, test_data = torch.utils.data.random_split(torch.utils.data.TensorDataset(x, f), [n_train, n_test])"
   ]
  },
  {
   "cell_type": "code",
   "execution_count": 11,
   "metadata": {},
   "outputs": [
    {
     "name": "stdout",
     "output_type": "stream",
     "text": [
      "linear.weight:Parameter containing:\n",
      "tensor([[ 0.1396, -0.0099, -0.2551, -0.1378, -0.0708,  0.1272, -0.2129, -0.1422,\n",
      "          0.0382,  0.1299]], requires_grad=True)\n",
      "linear.bias:Parameter containing:\n",
      "tensor([-0.1379], requires_grad=True)\n"
     ]
    }
   ],
   "source": [
    "# Define a model class that we will train - represents a linear combination\n",
    "class LinearModel(torch.nn.Module):\n",
    "    def __init__(self, n_features):\n",
    "        super(LinearModel, self).__init__()\n",
    "        self.linear = torch.nn.Linear(n_features, 1)\n",
    "        \n",
    "    def forward(self,x):\n",
    "        return self.linear(x)\n",
    "\n",
    "# list trainable parameters for linear model if we have 10 inputs\n",
    "lmodel = LinearModel(10)\n",
    "for name, item in lmodel.named_parameters():\n",
    "    print(f'{name}:{item}')\n"
   ]
  },
  {
   "cell_type": "markdown",
   "metadata": {},
   "source": [
    "### Modifications to Linear Regression\n",
    "For machine learning models at this scale it is impossible to train the model on the entire dataset and then calculate the gradient necessary to minimize the loss. Instead, we approximate the full gradient by reducing the number of points used to calculate the gradient. We divide the entire dataset into \"batches\" and use the gradient with respect to these batches as a stand-in for the real gradient. Depending on the batch size we call this method as follows:\n",
    "- \"Batch gradient descent / Gradient descent\" -> the batch size is equal to the dataset size\n",
    "- \"Mini-batch gradient descent\" -> the batch size is > 1 but less than the dataset size\n",
    "- \"Stochastic gradient descent\" -> the batch size is 1\n",
    "\n",
    "Choosing the correct batch size has a significant effect on optimization speed depedning on the problem at hand.\n",
    "\n",
    "In this case the term \"epoch\" describes the number of times the optimizer will use the entire dataset during optimization (generally greater than one)."
   ]
  },
  {
   "cell_type": "markdown",
   "metadata": {},
   "source": [
    "We will start by trying batch gradient descent using `torch.optim.SGD`\n",
    "#### NOTE: even though the function name is SGD, it depends on how much data you pass it. In this case since we pass it the entire dataset it is effectively batch gradient descent."
   ]
  },
  {
   "cell_type": "code",
   "execution_count": 12,
   "metadata": {},
   "outputs": [
    {
     "name": "stdout",
     "output_type": "stream",
     "text": [
      "epoch: 0, loss: 0.05567749962210655\n",
      "epoch: 5, loss: 0.04022649675607681\n",
      "epoch: 10, loss: 0.04015941545367241\n",
      "epoch: 15, loss: 0.04009246826171875\n",
      "epoch: 20, loss: 0.04002562537789345\n",
      "epoch: 25, loss: 0.0399589017033577\n",
      "epoch: 30, loss: 0.039892297238111496\n",
      "epoch: 35, loss: 0.03982580453157425\n",
      "epoch: 40, loss: 0.03975943103432655\n",
      "epoch: 45, loss: 0.03969316929578781\n"
     ]
    }
   ],
   "source": [
    "epochs = 50\n",
    "gd_model = LinearModel(x.shape[1])\n",
    "\n",
    "#use Mean Squared Error loss function\n",
    "loss_fn = torch.nn.MSELoss()\n",
    "optim = torch.optim.SGD(gd_model.parameters(), lr = 0.001)\n",
    "\n",
    "batch_size = len(train_data)\n",
    "\n",
    "train_loader = torch.utils.data.DataLoader(train_data, batch_size = batch_size, shuffle = True)\n",
    "\n",
    "#track loss during epochs\n",
    "train_loss = []\n",
    "test_loss = []\n",
    "for i in range(epochs):\n",
    "\n",
    "    #iterate over the batches (in this case we only have one batch)\n",
    "    for batch_idx, (data, target) in enumerate(train_loader):\n",
    "        # zero gradients\n",
    "        optim.zero_grad()\n",
    "        \n",
    "        # calculate model prediction -> calculate loss\n",
    "        fval = gd_model(data)\n",
    "        loss = loss_fn(fval, target.reshape(-1,1))\n",
    "        \n",
    "        # calculate derivatives of loss based on model parameters\n",
    "        loss.backward()\n",
    "    \n",
    "        # step the optimizer based on the gradients\n",
    "        optim.step()\n",
    "        \n",
    "        # keep track of loss function\n",
    "        train_loss += [loss.detach().numpy()]\n",
    "        if i % 5 == 0:\n",
    "            print(f'epoch: {i}, loss: {loss}')   \n",
    "            \n",
    "        #calculate test loss\n",
    "        test_loss += [loss_fn(gd_model(test_data[:][0]),test_data[:][1].unsqueeze(1)).detach().numpy()]\n"
   ]
  },
  {
   "cell_type": "code",
   "execution_count": 13,
   "metadata": {},
   "outputs": [
    {
     "data": {
      "text/plain": [
       "Text(0, 0.5, '<MSELoss>')"
      ]
     },
     "execution_count": 13,
     "metadata": {},
     "output_type": "execute_result"
    },
    {
     "data": {
      "image/png": "[encoded data removed]",
      "text/plain": [
       "<Figure size 432x288 with 1 Axes>"
      ]
     },
     "metadata": {
      "needs_background": "light"
     },
     "output_type": "display_data"
    }
   ],
   "source": [
    "# plot \n",
    "#plt.plot(test_loss)\n",
    "plt.semilogy(train_loss)\n",
    "\n",
    "plt.xlabel('Epoch')\n",
    "plt.ylabel('<MSELoss>')"
   ]
  },
  {
   "cell_type": "markdown",
   "metadata": {},
   "source": [
    "<div class=\"alert alert-block alert-info\">\n",
    "    \n",
    "**Task:** \n",
    "    Refit the data using stochastic gradient descent (batch size of 1) and mini-batch gradient descent with 10 batches. You will have to change the number of epochs so that it takes a reasonable amount of time (50 for mini-batch and 10 for SGD). Compare how changing batch size effects optimization by plotting test_loss as a function of epoch for each batch size. Compare how mini-batch training changes with varying learning rates (0.001, 0.01, 0.1).\n",
    "    \n",
    "</div>"
   ]
  },
  {
   "cell_type": "code",
   "execution_count": 14,
   "metadata": {},
   "outputs": [
    {
     "name": "stdout",
     "output_type": "stream",
     "text": [
      "epoch: 0, loss: 0.21927504241466522\n",
      "epoch: 0, loss: 0.03802037984132767\n",
      "epoch: 0, loss: 0.03776510804891586\n",
      "epoch: 0, loss: 0.03762199729681015\n",
      "epoch: 0, loss: 0.03860285133123398\n",
      "epoch: 0, loss: 0.03785426542162895\n",
      "epoch: 0, loss: 0.03775765746831894\n",
      "epoch: 5, loss: 0.03770924732089043\n",
      "epoch: 5, loss: 0.036999646574258804\n",
      "epoch: 5, loss: 0.03810597583651543\n",
      "epoch: 5, loss: 0.037492841482162476\n",
      "epoch: 5, loss: 0.03750311955809593\n",
      "epoch: 5, loss: 0.03683830425143242\n",
      "epoch: 5, loss: 0.038779366761446\n",
      "epoch: 10, loss: 0.03756172955036163\n",
      "epoch: 10, loss: 0.03689240291714668\n",
      "epoch: 10, loss: 0.03719107806682587\n",
      "epoch: 10, loss: 0.037084031850099564\n",
      "epoch: 10, loss: 0.03745623305439949\n",
      "epoch: 10, loss: 0.0367610827088356\n",
      "epoch: 10, loss: 0.03753230720758438\n",
      "epoch: 15, loss: 0.03683082014322281\n",
      "epoch: 15, loss: 0.036799073219299316\n",
      "epoch: 15, loss: 0.037143394351005554\n",
      "epoch: 15, loss: 0.03729584068059921\n",
      "epoch: 15, loss: 0.036460619419813156\n",
      "epoch: 15, loss: 0.03632970154285431\n",
      "epoch: 15, loss: 0.03671680763363838\n",
      "epoch: 20, loss: 0.03707410767674446\n",
      "epoch: 20, loss: 0.03619300201535225\n",
      "epoch: 20, loss: 0.035803619772195816\n",
      "epoch: 20, loss: 0.035897549241781235\n",
      "epoch: 20, loss: 0.03681252896785736\n",
      "epoch: 20, loss: 0.03587190806865692\n",
      "epoch: 20, loss: 0.03705837205052376\n",
      "epoch: 25, loss: 0.03601685166358948\n",
      "epoch: 25, loss: 0.03539685159921646\n",
      "epoch: 25, loss: 0.0362781323492527\n",
      "epoch: 25, loss: 0.03553032502532005\n",
      "epoch: 25, loss: 0.036232754588127136\n",
      "epoch: 25, loss: 0.03606856241822243\n",
      "epoch: 25, loss: 0.036337122321128845\n",
      "epoch: 30, loss: 0.03508715331554413\n",
      "epoch: 30, loss: 0.03521193563938141\n",
      "epoch: 30, loss: 0.03573937341570854\n",
      "epoch: 30, loss: 0.03706252574920654\n",
      "epoch: 30, loss: 0.034779131412506104\n",
      "epoch: 30, loss: 0.03585279732942581\n",
      "epoch: 30, loss: 0.0353701114654541\n",
      "epoch: 35, loss: 0.034699708223342896\n",
      "epoch: 35, loss: 0.035353679209947586\n",
      "epoch: 35, loss: 0.0351172611117363\n",
      "epoch: 35, loss: 0.034711651504039764\n",
      "epoch: 35, loss: 0.03447442501783371\n",
      "epoch: 35, loss: 0.036390095949172974\n",
      "epoch: 35, loss: 0.03560611978173256\n",
      "epoch: 40, loss: 0.034856587648391724\n",
      "epoch: 40, loss: 0.0346515029668808\n",
      "epoch: 40, loss: 0.03505631536245346\n",
      "epoch: 40, loss: 0.03475693240761757\n",
      "epoch: 40, loss: 0.034971803426742554\n",
      "epoch: 40, loss: 0.03480911999940872\n",
      "epoch: 40, loss: 0.034472014755010605\n",
      "epoch: 45, loss: 0.03488662838935852\n",
      "epoch: 45, loss: 0.03426632657647133\n",
      "epoch: 45, loss: 0.03417685627937317\n",
      "epoch: 45, loss: 0.03412827104330063\n",
      "epoch: 45, loss: 0.034431036561727524\n",
      "epoch: 45, loss: 0.035601019859313965\n",
      "epoch: 45, loss: 0.033433400094509125\n",
      "epoch: 50, loss: 0.03484172746539116\n",
      "epoch: 50, loss: 0.03403957560658455\n",
      "epoch: 50, loss: 0.033764757215976715\n",
      "epoch: 50, loss: 0.033734094351530075\n",
      "epoch: 50, loss: 0.03391040116548538\n",
      "epoch: 50, loss: 0.034046754240989685\n",
      "epoch: 50, loss: 0.033879250288009644\n",
      "epoch: 55, loss: 0.03368590772151947\n",
      "epoch: 55, loss: 0.03338022530078888\n",
      "epoch: 55, loss: 0.03414604812860489\n",
      "epoch: 55, loss: 0.03360406309366226\n",
      "epoch: 55, loss: 0.03377443552017212\n",
      "epoch: 55, loss: 0.033165886998176575\n",
      "epoch: 55, loss: 0.03383827582001686\n",
      "epoch: 60, loss: 0.03370644152164459\n",
      "epoch: 60, loss: 0.03236423805356026\n",
      "epoch: 60, loss: 0.033717092126607895\n",
      "epoch: 60, loss: 0.03312719613313675\n",
      "epoch: 60, loss: 0.03313500061631203\n",
      "epoch: 60, loss: 0.033377986401319504\n",
      "epoch: 60, loss: 0.03358687832951546\n",
      "epoch: 65, loss: 0.03247786685824394\n",
      "epoch: 65, loss: 0.03351404517889023\n",
      "epoch: 65, loss: 0.0332099013030529\n",
      "epoch: 65, loss: 0.033113185316324234\n",
      "epoch: 65, loss: 0.03269299119710922\n",
      "epoch: 65, loss: 0.032585736364126205\n",
      "epoch: 65, loss: 0.03285429999232292\n",
      "epoch: 70, loss: 0.032953083515167236\n",
      "epoch: 70, loss: 0.03225085511803627\n",
      "epoch: 70, loss: 0.03234778344631195\n",
      "epoch: 70, loss: 0.032993488013744354\n",
      "epoch: 70, loss: 0.03239389881491661\n",
      "epoch: 70, loss: 0.032497588545084\n",
      "epoch: 70, loss: 0.03246467933058739\n",
      "epoch: 75, loss: 0.03162294626235962\n",
      "epoch: 75, loss: 0.032527364790439606\n",
      "epoch: 75, loss: 0.03182563558220863\n",
      "epoch: 75, loss: 0.03256143257021904\n",
      "epoch: 75, loss: 0.032401490956544876\n",
      "epoch: 75, loss: 0.03273622319102287\n",
      "epoch: 75, loss: 0.03171641379594803\n",
      "epoch: 80, loss: 0.031769223511219025\n",
      "epoch: 80, loss: 0.032794415950775146\n",
      "epoch: 80, loss: 0.03171203285455704\n",
      "epoch: 80, loss: 0.03134247660636902\n",
      "epoch: 80, loss: 0.03220803663134575\n",
      "epoch: 80, loss: 0.031244345009326935\n",
      "epoch: 80, loss: 0.03188756853342056\n",
      "epoch: 85, loss: 0.03152414411306381\n",
      "epoch: 85, loss: 0.031617242842912674\n",
      "epoch: 85, loss: 0.03104737028479576\n",
      "epoch: 85, loss: 0.03154689818620682\n",
      "epoch: 85, loss: 0.031165670603513718\n",
      "epoch: 85, loss: 0.03253510221838951\n",
      "epoch: 85, loss: 0.031015703454613686\n",
      "epoch: 90, loss: 0.03104795143008232\n",
      "epoch: 90, loss: 0.0317080095410347\n",
      "epoch: 90, loss: 0.03129541501402855\n",
      "epoch: 90, loss: 0.030940301716327667\n",
      "epoch: 90, loss: 0.031085610389709473\n",
      "epoch: 90, loss: 0.031128523871302605\n",
      "epoch: 90, loss: 0.03084380552172661\n",
      "epoch: 95, loss: 0.03132510557770729\n",
      "epoch: 95, loss: 0.030085476115345955\n",
      "epoch: 95, loss: 0.031503159552812576\n",
      "epoch: 95, loss: 0.030484817922115326\n",
      "epoch: 95, loss: 0.03029674105346203\n",
      "epoch: 95, loss: 0.03120783343911171\n",
      "epoch: 95, loss: 0.030756093561649323\n"
     ]
    }
   ],
   "source": []
  },
  {
   "cell_type": "code",
   "execution_count": 15,
   "metadata": {},
   "outputs": [
    {
     "data": {
      "text/plain": [
       "Text(0, 0.5, '<MSELoss>')"
      ]
     },
     "execution_count": 15,
     "metadata": {},
     "output_type": "execute_result"
    },
    {
     "data": {
      "image/png": "[encoded data removed]",
      "text/plain": [
       "<Figure size 432x288 with 1 Axes>"
      ]
     },
     "metadata": {
      "needs_background": "light"
     },
     "output_type": "display_data"
    }
   ],
   "source": []
  },
  {
   "cell_type": "code",
   "execution_count": 16,
   "metadata": {},
   "outputs": [
    {
     "name": "stdout",
     "output_type": "stream",
     "text": [
      "epoch: 0, test_loss: 0.00817880965769291\n",
      "epoch: 1, test_loss: 0.0044096531346440315\n",
      "epoch: 2, test_loss: 0.004629952367395163\n",
      "epoch: 3, test_loss: 0.00626334547996521\n",
      "epoch: 4, test_loss: 0.0058640772476792336\n",
      "epoch: 5, test_loss: 0.0066016060300171375\n",
      "epoch: 6, test_loss: 0.004276455845683813\n",
      "epoch: 7, test_loss: 0.004697387106716633\n",
      "epoch: 8, test_loss: 0.005313584581017494\n",
      "epoch: 9, test_loss: 0.005357528571039438\n"
     ]
    }
   ],
   "source": []
  },
  {
   "cell_type": "code",
   "execution_count": 17,
   "metadata": {},
   "outputs": [
    {
     "data": {
      "text/plain": [
       "Text(0, 0.5, '<MSELoss>')"
      ]
     },
     "execution_count": 17,
     "metadata": {},
     "output_type": "execute_result"
    },
    {
     "data": {
      "image/png": "[encoded data removed]",
      "text/plain": [
       "<Figure size 432x288 with 1 Axes>"
      ]
     },
     "metadata": {
      "needs_background": "light"
     },
     "output_type": "display_data"
    }
   ],
   "source": []
  },
  {
   "cell_type": "markdown",
   "metadata": {},
   "source": [
    "<div class=\"alert alert-block alert-success\">\n",
    "    \n",
    "**Homework:**\n",
    "    Provide an explaniation for why the MSE performance of gradient based methods varies so dramatically based on batch size.\n",
    "</div>"
   ]
  },
  {
   "cell_type": "markdown",
   "metadata": {},
   "source": [
    "<div class=\"alert alert-block alert-success\">\n",
    "    \n",
    "**Homework:**\n",
    "    How could we extend this method towards modeling more complex functions? Use a pytorch model to perform polynomial\n",
    "    regression of the dataset generated below. Your answer should closely match the analytical function used to generate the data.\n",
    "    Hint: You can access the weight elements of nn.Linear layer using `.weight`, see above for use.\n",
    "</div>"
   ]
  },
  {
   "cell_type": "code",
   "execution_count": 18,
   "metadata": {},
   "outputs": [
    {
     "data": {
      "text/plain": [
       "[<matplotlib.lines.Line2D at 0x7f87d803a610>]"
      ]
     },
     "execution_count": 18,
     "metadata": {},
     "output_type": "execute_result"
    },
    {
     "data": {
      "image/png": "[encoded data removed]",
      "text/plain": [
       "<Figure size 432x288 with 1 Axes>"
      ]
     },
     "metadata": {
      "needs_background": "light"
     },
     "output_type": "display_data"
    }
   ],
   "source": [
    "x = torch.linspace(0,1, 100).unsqueeze(dim=1)\n",
    "y = 0.75 + 0.1 * x - 0.5 * x ** 2 + 0.5 * x ** 3 + torch.randn(x.shape)*0.005\n",
    "plt.plot(x,y)"
   ]
  },
  {
   "cell_type": "code",
   "execution_count": 19,
   "metadata": {},
   "outputs": [
    {
     "name": "stdout",
     "output_type": "stream",
     "text": [
      "tensor(2.5373e-05, grad_fn=<MseLossBackward>)\n",
      "linear.weight:Parameter containing:\n",
      "tensor([[ 0.0121, -0.2899,  0.3612]], requires_grad=True)\n",
      "linear.bias:Parameter containing:\n",
      "tensor([0.7585], requires_grad=True)\n"
     ]
    },
    {
     "data": {
      "text/plain": [
       "[<matplotlib.lines.Line2D at 0x7f87d7fc38d0>]"
      ]
     },
     "execution_count": 19,
     "metadata": {},
     "output_type": "execute_result"
    },
    {
     "data": {
      "image/png": "[encoded data removed]",
      "text/plain": [
       "<Figure size 432x288 with 1 Axes>"
      ]
     },
     "metadata": {
      "needs_background": "light"
     },
     "output_type": "display_data"
    }
   ],
   "source": []
  },
  {
   "cell_type": "code",
   "execution_count": null,
   "metadata": {},
   "outputs": [],
   "source": []
  }
 ],
 "metadata": {
  "kernelspec": {
   "display_name": "Python 3",
   "language": "python",
   "name": "python3"
  },
  "language_info": {
   "codemirror_mode": {
    "name": "ipython",
    "version": 3
   },
   "file_extension": ".py",
   "mimetype": "text/x-python",
   "name": "python",
   "nbconvert_exporter": "python",
   "pygments_lexer": "ipython3",
   "version": "3.8.10"
  }
 },
 "nbformat": 4,
 "nbformat_minor": 4
}
